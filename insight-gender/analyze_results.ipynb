{
 "cells": [
  {
   "cell_type": "code",
   "execution_count": null,
   "metadata": {
    "id": "iYEfD2w1ptnO"
   },
   "outputs": [],
   "source": [
    "PATH_OUT = \"./output\"\n",
    "BLUR_THRESHOLD = 35\n",
    "AREA_THRESHOLD = 0.0013"
   ]
  },
  {
   "cell_type": "code",
   "execution_count": null,
   "metadata": {
    "id": "4dSwp-nEoKF5"
   },
   "outputs": [],
   "source": [
    "import pandas as pd\n",
    "import json"
   ]
  },
  {
   "cell_type": "code",
   "execution_count": null,
   "metadata": {},
   "outputs": [],
   "source": [
    "def extract_details_column(details_string):\n",
    "    details = json.loads(details_string)\n",
    "    min_blur_level = BLUR_THRESHOLD\n",
    "    min_face_area = AREA_THRESHOLD\n",
    "    num_male = 0\n",
    "    num_female = 0\n",
    "    for i_face in range(len(details)):\n",
    "        try:\n",
    "            blur_level = details[i_face]['blur_level']\n",
    "        except TypeError:\n",
    "            import pdb;pdb.set_trace()\n",
    "            print(i_face)\n",
    "            print(details)\n",
    "        face_area = details[i_face]['face_area']\n",
    "        if blur_level < min_blur_level or face_area < min_face_area: continue\n",
    "        gender = details[i_face]['gender']\n",
    "        if gender == 1: num_male += 1\n",
    "        if gender == 0: num_female += 1\n",
    "    return num_male,num_female\n",
    "\n",
    "def func_num_male(details):\n",
    "    num_male, num_female = extract_details_column(details)\n",
    "    return num_male\n",
    "\n",
    "def func_num_female(details):\n",
    "    num_male, num_female = extract_details_column(details)\n",
    "    return num_female\n",
    "\n",
    "def female_ratio(x):\n",
    "    try:\n",
    "        return x.loc[\"num_female\"] / (x.loc[\"num_male\"] + x.loc[\"num_female\"])\n",
    "    except ZeroDivisionError:\n",
    "        return None"
   ]
  },
  {
   "cell_type": "code",
   "execution_count": null,
   "metadata": {},
   "outputs": [],
   "source": [
    "df = pd.read_csv(\"{}/results.csv\".format(PATH_OUT))\n",
    "df[\"num_male\"] = df[\"details\"].apply(func_num_male)\n",
    "df[\"num_female\"] = df[\"details\"].apply(func_num_female)\n",
    "df[\"female_ratio\"] = df.apply(female_ratio, axis=1)"
   ]
  },
  {
   "cell_type": "code",
   "execution_count": null,
   "metadata": {},
   "outputs": [],
   "source": [
    "df.describe()"
   ]
  },
  {
   "cell_type": "code",
   "execution_count": null,
   "metadata": {},
   "outputs": [],
   "source": []
  }
 ],
 "metadata": {
  "accelerator": "GPU",
  "colab": {
   "collapsed_sections": [],
   "machine_shape": "hm",
   "name": "insight-gender-age-share.ipynb",
   "provenance": [],
   "toc_visible": true
  },
  "kernelspec": {
   "display_name": "Python 3",
   "language": "python",
   "name": "python3"
  },
  "language_info": {
   "codemirror_mode": {
    "name": "ipython",
    "version": 3
   },
   "file_extension": ".py",
   "mimetype": "text/x-python",
   "name": "python",
   "nbconvert_exporter": "python",
   "pygments_lexer": "ipython3",
   "version": "3.8.6"
  }
 },
 "nbformat": 4,
 "nbformat_minor": 1
}
